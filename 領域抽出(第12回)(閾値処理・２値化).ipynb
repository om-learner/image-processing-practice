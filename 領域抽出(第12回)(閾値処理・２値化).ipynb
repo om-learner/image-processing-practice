{
 "cells": [
  {
   "cell_type": "code",
   "execution_count": null,
   "id": "9491d65c-486d-4eaa-b9ae-47e98a701759",
   "metadata": {},
   "outputs": [],
   "source": [
    "閾値処理"
   ]
  },
  {
   "cell_type": "code",
   "execution_count": null,
   "id": "2192955d-0ce6-4795-a594-cc9840c83eee",
   "metadata": {},
   "outputs": [],
   "source": [
    "import cv2\n",
    "import numpy as np\n",
    "%matplotlib inline\n",
    "import matplotlib.pyplot as plt\n",
    "\n",
    "inp_img_file = 'b_postit2.jpg'\n",
    "inp_img_data = cv2.imread( inp_img_file, 1 )\n",
    "\n",
    "cv2.namedWindow( 'Original Image' )\n",
    "cv2.imshow( 'Original Image', inp_img_data )\n",
    "\n",
    "grayscale_data = cv2.imread( inp_img_file, 0 )\n",
    "cv2.namedWindow( 'Grayscale Image' )\n",
    "cv2.imshow('Grayscale Image', grayscale_data )\n",
    "plt.hist( np.ravel( grayscale_data ), 256, ( 0, 255 ) )\n",
    "plt.show()\n",
    "ret, out_img_data = cv2.threshold( grayscale_data, 127, 255, cv2.THRESH_BINARY )\n",
    "\n",
    "cv2.imshow( 'Processed Image', out_img_data )\n",
    "\n",
    "out_img_file = 'output.jpg'\n",
    "cv2.imwrite( out_img_file, out_img_data )\n",
    "\n",
    "cv2.waitKey( 0 )\n",
    "cv2.destroyAllWindows()"
   ]
  },
  {
   "cell_type": "code",
   "execution_count": null,
   "id": "65e9e91f-0e89-43e3-9b62-fd10562ceb21",
   "metadata": {},
   "outputs": [],
   "source": [
    "大津の２値化"
   ]
  },
  {
   "cell_type": "code",
   "execution_count": null,
   "id": "67aaf38c-04a4-4443-b00d-48698344d8bf",
   "metadata": {},
   "outputs": [],
   "source": [
    "grayscale_data = cv2.imread( inp_img_file, 0 )\n",
    "cv2.namedWindow( 'Grayscale Image' )\n",
    "cv2.imshow('Grayscale Image', grayscale_data )\n",
    "plt.hist( np.ravel( grayscale_data ), 256, ( 0, 255 ) )\n",
    "plt.show()\n",
    "ret, out_img_data = cv2.threshold( grayscale_data, 0, 255, cv2.THRESH_OTSU )\n",
    "print( ret )"
   ]
  },
  {
   "cell_type": "code",
   "execution_count": null,
   "id": "c55059e2-2be3-4b35-9af1-cbd9b3b2caa4",
   "metadata": {},
   "outputs": [],
   "source": [
    "適応的閾値処理"
   ]
  },
  {
   "cell_type": "code",
   "execution_count": null,
   "id": "eff834cb-7afa-490f-b551-aec763cf8e78",
   "metadata": {},
   "outputs": [],
   "source": [
    "out_img_data = cv2.adaptiveThreshold( grayscale_data, 255, cv2.ADAPTIVE_TRESH_MEAN_C, cv2.TRESH_BINARY, 251, 50 )"
   ]
  }
 ],
 "metadata": {
  "kernelspec": {
   "display_name": "Python 3 (ipykernel)",
   "language": "python",
   "name": "python3"
  },
  "language_info": {
   "codemirror_mode": {
    "name": "ipython",
    "version": 3
   },
   "file_extension": ".py",
   "mimetype": "text/x-python",
   "name": "python",
   "nbconvert_exporter": "python",
   "pygments_lexer": "ipython3",
   "version": "3.12.4"
  }
 },
 "nbformat": 4,
 "nbformat_minor": 5
}
